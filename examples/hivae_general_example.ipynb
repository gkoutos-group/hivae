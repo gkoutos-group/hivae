{
 "cells": [
  {
   "cell_type": "markdown",
   "id": "036cd306",
   "metadata": {},
   "source": [
    "# hivae Example\n",
    "\n",
    "A general example for trying out three different datasets\n",
    "\n",
    "Follows the same structure as the python file - here just in a notebook"
   ]
  },
  {
   "cell_type": "code",
   "execution_count": 1,
   "id": "c7253f9e",
   "metadata": {},
   "outputs": [],
   "source": [
    "# issues with : UserWarning: `tf.layers.dense` is deprecated and will be removed in a future version. Please use `tf.keras.layers.Dense` instead.\n",
    "\n",
    "import warnings\n",
    "warnings.simplefilter(action='once', category=UserWarning) "
   ]
  },
  {
   "cell_type": "code",
   "execution_count": 2,
   "id": "91593043",
   "metadata": {},
   "outputs": [
    {
     "data": {
      "text/html": [
       "<style>.container {width:80% !important;</style>"
      ],
      "text/plain": [
       "<IPython.core.display.HTML object>"
      ]
     },
     "metadata": {},
     "output_type": "display_data"
    }
   ],
   "source": [
    "from IPython.display import display, HTML\n",
    "display(HTML(\"<style>.container {width:80% !important;</style>\"))"
   ]
  },
  {
   "cell_type": "code",
   "execution_count": 3,
   "id": "cd83db18",
   "metadata": {},
   "outputs": [],
   "source": [
    "import os,os.path\n",
    "\n",
    "import pprint\n",
    "printer = pprint.PrettyPrinter(depth=3).pprint\n"
   ]
  },
  {
   "cell_type": "code",
   "execution_count": 4,
   "id": "fcff2304",
   "metadata": {},
   "outputs": [],
   "source": [
    "import os,os.path\n",
    "\n",
    "import pandas as pd\n",
    "import hivae\n",
    "import numpy as np\n",
    "import scipy.stats\n"
   ]
  },
  {
   "cell_type": "code",
   "execution_count": null,
   "id": "de7e5abe",
   "metadata": {},
   "outputs": [],
   "source": []
  },
  {
   "cell_type": "code",
   "execution_count": 22,
   "id": "5c7e6c30",
   "metadata": {},
   "outputs": [],
   "source": [
    "main_directory = '.'\n",
    "\n",
    "# select which data to run for this example\n",
    "#dataset_name = 'Diabetes'\n",
    "dataset_name = 'Adult'\n",
    "#dataset_name = 'Mock'\n"
   ]
  },
  {
   "cell_type": "code",
   "execution_count": null,
   "id": "8849671a",
   "metadata": {},
   "outputs": [],
   "source": []
  },
  {
   "cell_type": "code",
   "execution_count": 23,
   "id": "5ff5d253",
   "metadata": {},
   "outputs": [],
   "source": [
    "# set up paths\n",
    "# where the data should be found\n",
    "dataset_path = '{}/data/{}'.format(main_directory,dataset_name)\n",
    "# where the results will be saved\n",
    "results_path = '{}/results/{}'.format(main_directory,dataset_name)\n",
    "# where the networks will be saved\n",
    "network_path = '{}/network/{}'.format(main_directory,dataset_name)\n"
   ]
  },
  {
   "cell_type": "code",
   "execution_count": 24,
   "id": "6d81912b",
   "metadata": {},
   "outputs": [],
   "source": [
    "# generate information for different datasets\n",
    "types_list_d = {} # empty hash \n",
    "#Diabetes\n",
    "types_list_d['Diabetes'] = [\n",
    "    ('AGE','pos',1,None), # positive numerical , use one feature\n",
    "    ('SEX','cat',2,2),    # categorical - has two values , use two features\n",
    "    ('BMI','pos',1,None),\n",
    "    ('BP','pos',1,None),\n",
    "    ('S1','pos',1,None),\n",
    "    ('S2','pos',1,None),\n",
    "    ('S3','pos',1,None),\n",
    "    ('S4','pos',1,None),\n",
    "    ('S5','pos',1,None),\n",
    "    ('S6','pos',1,None),\n",
    "#    ('Y','pos',1,None) not included in the data \n",
    "    ]\n",
    "\n",
    "# Adult\n",
    "types_list_d['Adult'] = [\n",
    "    ('V1','count',1,None),  # count values, use one feature\n",
    "    ('V2','cat',7,7),\n",
    "    ('V3','pos',1,None),\n",
    "    ('V4','ordinal',16,16),\n",
    "    ('V5','cat',7,7),\n",
    "    ('V6','cat',14,14),\n",
    "    ('V7','cat',6,6),\n",
    "    ('V8','cat',5,5),\n",
    "    ('V9','cat',2,2),\n",
    "    ('V10','pos',1,None),\n",
    "    ('V11','pos',1,None),\n",
    "    ('V12','count',1,None)  # count values, use one feature\n",
    "    ]\n",
    "\n",
    "types_list_d['Mock'] = [\n",
    "    ('V1','count',1,None),\n",
    "    ('V2','cat',2,2),\n",
    "    ('V3','ordinal',2,2),\n",
    "    ('V4','pos',1,None),\n",
    "    ]\n",
    "    \n"
   ]
  },
  {
   "cell_type": "code",
   "execution_count": 25,
   "id": "bdbde20c",
   "metadata": {},
   "outputs": [],
   "source": [
    "# use for the selected dataset \n",
    "types_list = types_list_d[dataset_name]\n",
    "\n",
    "# assumes that in dataset_path (e.g ./data/Adult)\n",
    "data_file_org = '{}/data_org.csv'.format(dataset_path)\n",
    "data_file     = '{}/data.csv'.format(dataset_path) \n",
    "data_file_id  = '{}/data_id.csv'.format(dataset_path)\n",
    "train_file    = '{}/data_train.csv'.format(dataset_path) # has to exits!!!!!\n",
    "test_file     = '{}/data_test.csv'.format(dataset_path)\n",
    "\n",
    "train_data = None # will contain the pandas dataframe for training\n",
    "test_data  = None # will contain the pandas dataframe for testing\n"
   ]
  },
  {
   "cell_type": "code",
   "execution_count": 26,
   "id": "3d090ca0",
   "metadata": {},
   "outputs": [],
   "source": [
    "# if train/test does not exist - create from new\n",
    "data_df = None\n",
    "if not os.path.exists(train_file):\n",
    "    data_df = pd.read_csv(data_file_org,header=None)\n",
    "    data_df.insert(0,'ID',['{:s}'.format(str(x).zfill(3)) for x in range(len(data_df))])\n",
    "    print('Len data = ',len(data_df))\n",
    "    # save data including IDs \n",
    "    data_df.to_csv(data_file_id,header=False,index=False)\n",
    "    # drop IDs again\n",
    "    data_df = data_df.drop('ID', axis=1)\n",
    "    data_df.to_csv(data_file,header=False,index=False)\n",
    "\n",
    "    test_data = data_df.sample(frac=0.3,replace=False,random_state=33)\n",
    "    train_data = data_df.loc[set(data_df.index)-set(test_data.index)]\n",
    "\n",
    "    train_data.to_csv(train_file,header=False,index=False)\n",
    "    test_data.to_csv(test_file,header=False,index=False)\n",
    "#if not os.path.exists(train_file):\n",
    "else:\n",
    "    train_data = pd.read_csv(train_file,header=None)\n",
    "    test_data  = pd.read_csv(test_file,header=None)\n"
   ]
  },
  {
   "cell_type": "code",
   "execution_count": 27,
   "id": "f6f3742b",
   "metadata": {},
   "outputs": [],
   "source": [
    "# construct missing data mask - for data having missing data\n",
    "missing_true_train = pd.DataFrame()\n",
    "for x in list(train_data.columns.values):\n",
    "    missing_true_train[x] = train_data[x].isna().map({True:0,False:1})\n"
   ]
  },
  {
   "cell_type": "code",
   "execution_count": 28,
   "id": "bd025dc7",
   "metadata": {},
   "outputs": [],
   "source": [
    "\n",
    "missing_true_test = pd.DataFrame()\n",
    "for x in list(test_data.columns.values):\n",
    "    missing_true_test  =  test_data[x].isna().map({True:0,False:1})\n",
    "\n"
   ]
  },
  {
   "cell_type": "code",
   "execution_count": 31,
   "id": "345796dd",
   "metadata": {},
   "outputs": [
    {
     "data": {
      "text/plain": [
       "9     7361\n",
       "10    5025\n",
       "13    3783\n",
       "14    1181\n",
       "11     960\n",
       "7      833\n",
       "12     760\n",
       "6      675\n",
       "4      476\n",
       "15     402\n",
       "5      366\n",
       "8      313\n",
       "16     272\n",
       "3      236\n",
       "2      118\n",
       "1       32\n",
       "Name: 3, dtype: int64"
      ]
     },
     "execution_count": 31,
     "metadata": {},
     "output_type": "execute_result"
    }
   ],
   "source": [
    "train_data[3].value_counts()"
   ]
  },
  {
   "cell_type": "code",
   "execution_count": 13,
   "id": "3c697002",
   "metadata": {},
   "outputs": [],
   "source": [
    "network_dict = {\n",
    "    'Diabetes':{\n",
    "        'batch_size' : 32,\n",
    "        'model_name': 'model_HIVAE_inputDropout',\n",
    "        'dim_z': 5,\n",
    "        'dim_y': 5,\n",
    "        'dim_s': 10,\n",
    "    },\n",
    "    'Adult':{\n",
    "        'batch_size' : 32,\n",
    "        'model_name': 'model_HIVAE_inputDropout',\n",
    "        'dim_z': 8,\n",
    "        'dim_y': 10,\n",
    "        'dim_s': 10,\n",
    "    },\n",
    "    'Mock':{\n",
    "        'batch_size' : 32,\n",
    "        'model_name': 'model_HIVAE_inputDropout',\n",
    "        'dim_z': 3,\n",
    "        'dim_y': 3,\n",
    "        'dim_s': 3,\n",
    "    }\n",
    "}\n",
    "\n",
    "iterations = {\n",
    "    'Diabetes':50,\n",
    "    'Adult':10,\n",
    "    'Mock':10\n",
    "}"
   ]
  },
  {
   "cell_type": "code",
   "execution_count": 14,
   "id": "034e56eb",
   "metadata": {},
   "outputs": [
    {
     "name": "stdout",
     "output_type": "stream",
     "text": [
      "self.full_network_path ./network/Diabetes/model_HIVAE_inputDropout_s10_z5_y5_batch32_dc745f86-39c1-446e-9fd1-c89155fdba83\n",
      "self.full_results_path ./results/Diabetes/model_HIVAE_inputDropout_s10_z5_y5_batch32_dc745f86-39c1-446e-9fd1-c89155fdba83\n",
      "self.network_file_name ./network/Diabetes/model_HIVAE_inputDropout_s10_z5_y5_batch32_dc745f86-39c1-446e-9fd1-c89155fdba83_ckpt\n"
     ]
    }
   ],
   "source": [
    "hivae_obj = hivae.hivae(types_list,network_dict[dataset_name],results_path=results_path,network_path=network_path)\n"
   ]
  },
  {
   "cell_type": "code",
   "execution_count": 15,
   "id": "35ef44a0",
   "metadata": {},
   "outputs": [
    {
     "data": {
      "text/plain": [
       "'./network/Diabetes'"
      ]
     },
     "execution_count": 15,
     "metadata": {},
     "output_type": "execute_result"
    }
   ],
   "source": [
    "network_path"
   ]
  },
  {
   "cell_type": "code",
   "execution_count": 16,
   "id": "608a6e34",
   "metadata": {},
   "outputs": [
    {
     "data": {
      "text/plain": [
       "'./results/Diabetes'"
      ]
     },
     "execution_count": 16,
     "metadata": {},
     "output_type": "execute_result"
    }
   ],
   "source": [
    "results_path"
   ]
  },
  {
   "cell_type": "code",
   "execution_count": 17,
   "id": "d5641656",
   "metadata": {},
   "outputs": [
    {
     "name": "stdout",
     "output_type": "stream",
     "text": [
      "[*] Importing model: model_HIVAE_inputDropout\n",
      "[*] Defining placeholders\n",
      "[*] Defining Encoder...\n",
      "[*] Defining Decoder...\n"
     ]
    },
    {
     "name": "stderr",
     "output_type": "stream",
     "text": [
      "/Users/karwath/.pyenv/versions/miniforge3/lib/python3.9/site-packages/hivae/VAE_functions.py:108: UserWarning: `tf.layers.dense` is deprecated and will be removed in a future version. Please use `tf.keras.layers.Dense` instead.\n",
      "  log_pi = tf.compat.v1.layers.dense(inputs=X, units=s_dim, activation=None,\n",
      "/Users/karwath/.pyenv/versions/miniforge3/lib/python3.9/site-packages/hivae/model_HIVAE_inputDropout.py:40: UserWarning: `tf.layers.dense` is deprecated and will be removed in a future version. Please use `tf.keras.layers.Dense` instead.\n",
      "  samples['y'] = tf.compat.v1.layers.dense(inputs=samples['z'], units=y_dim, activation=None,\n"
     ]
    },
    {
     "name": "stdout",
     "output_type": "stream",
     "text": [
      "[*] Defining Cost function...\n",
      "Metal device set to: Apple M1\n",
      "INFO :\t Training the HVAE ...\n",
      "INFO :\t Initizalizing Variables ...\n"
     ]
    },
    {
     "name": "stderr",
     "output_type": "stream",
     "text": [
      "2022-08-25 14:54:00.046249: I tensorflow/core/common_runtime/pluggable_device/pluggable_device_factory.cc:305] Could not identify NUMA node of platform GPU ID 0, defaulting to 0. Your kernel may not have been built with NUMA support.\n",
      "2022-08-25 14:54:00.046374: I tensorflow/core/common_runtime/pluggable_device/pluggable_device_factory.cc:271] Created TensorFlow device (/job:localhost/replica:0/task:0/device:GPU:0 with 0 MB memory) -> physical PluggableDevice (device: 0, name: METAL, pci bus id: <undefined>)\n",
      "2022-08-25 14:54:00.114839: I tensorflow/compiler/mlir/mlir_graph_optimization_pass.cc:354] MLIR V1 optimization pass is not enabled\n",
      "2022-08-25 14:54:00.144624: W tensorflow/core/platform/profile_utils/cpu_utils.cc:128] Failed to get CPU frequency: 0 Hz\n",
      "2022-08-25 14:54:00.145490: I tensorflow/core/grappler/optimizers/custom_graph_optimizer_registry.cc:113] Plugin optimizer for device_type GPU is enabled.\n",
      "2022-08-25 14:54:00.286030: I tensorflow/core/grappler/optimizers/custom_graph_optimizer_registry.cc:113] Plugin optimizer for device_type GPU is enabled.\n",
      "2022-08-25 14:54:01.844959: I tensorflow/core/grappler/optimizers/custom_graph_optimizer_registry.cc:113] Plugin optimizer for device_type GPU is enabled.\n"
     ]
    },
    {
     "name": "stdout",
     "output_type": "stream",
     "text": [
      "INFO :\t Training Finished ...\n",
      "INFO :\t Saving model_HIVAE_inputDropout_s10_z5_y5_batch32_dc745f86-39c1-446e-9fd1-c89155fdba83_loglik.csv in ./results/Diabetes/model_HIVAE_inputDropout_s10_z5_y5_batch32_dc745f86-39c1-446e-9fd1-c89155fdba83\n",
      "INFO :\t Saving model_HIVAE_inputDropout_s10_z5_y5_batch32_dc745f86-39c1-446e-9fd1-c89155fdba83_KL_s.csv in ./results/Diabetes/model_HIVAE_inputDropout_s10_z5_y5_batch32_dc745f86-39c1-446e-9fd1-c89155fdba83\n",
      "INFO :\t Saving model_HIVAE_inputDropout_s10_z5_y5_batch32_dc745f86-39c1-446e-9fd1-c89155fdba83_KL_z.csv in ./results/Diabetes/model_HIVAE_inputDropout_s10_z5_y5_batch32_dc745f86-39c1-446e-9fd1-c89155fdba83\n",
      "INFO :\t Saving model_HIVAE_inputDropout_s10_z5_y5_batch32_dc745f86-39c1-446e-9fd1-c89155fdba83_train_error.csv in ./results/Diabetes/model_HIVAE_inputDropout_s10_z5_y5_batch32_dc745f86-39c1-446e-9fd1-c89155fdba83\n",
      "INFO :\t Saving model_HIVAE_inputDropout_s10_z5_y5_batch32_dc745f86-39c1-446e-9fd1-c89155fdba83_test_error.csv in ./results/Diabetes/model_HIVAE_inputDropout_s10_z5_y5_batch32_dc745f86-39c1-446e-9fd1-c89155fdba83\n",
      "INFO :\t Saving model_HIVAE_inputDropout_s10_z5_y5_batch32_dc745f86-39c1-446e-9fd1-c89155fdba83_testloglik.csv in ./results/Diabetes/model_HIVAE_inputDropout_s10_z5_y5_batch32_dc745f86-39c1-446e-9fd1-c89155fdba83\n",
      "INFO :\t Saving Network ... <<./network/Diabetes/model_HIVAE_inputDropout_s10_z5_y5_batch32_dc745f86-39c1-446e-9fd1-c89155fdba83_ckpt>>\n"
     ]
    },
    {
     "name": "stderr",
     "output_type": "stream",
     "text": [
      "2022-08-25 14:54:53.398253: I tensorflow/core/grappler/optimizers/custom_graph_optimizer_registry.cc:113] Plugin optimizer for device_type GPU is enabled.\n"
     ]
    },
    {
     "name": "stdout",
     "output_type": "stream",
     "text": [
      "INFO:tensorflow:./network/Diabetes/model_HIVAE_inputDropout_s10_z5_y5_batch32_dc745f86-39c1-446e-9fd1-c89155fdba83_ckpt.index\n",
      "INFO:tensorflow:0\n",
      "INFO:tensorflow:./network/Diabetes/model_HIVAE_inputDropout_s10_z5_y5_batch32_dc745f86-39c1-446e-9fd1-c89155fdba83_ckpt.data-00000-of-00001\n",
      "INFO:tensorflow:0\n",
      "INFO:tensorflow:./network/Diabetes/model_HIVAE_inputDropout_s10_z5_y5_batch32_dc745f86-39c1-446e-9fd1-c89155fdba83_ckpt.meta\n",
      "INFO:tensorflow:1100\n"
     ]
    }
   ],
   "source": [
    "hivae_obj.fit(train_data,epochs=iterations[dataset_name],true_missing_mask=missing_true_train)\n"
   ]
  },
  {
   "cell_type": "code",
   "execution_count": 18,
   "id": "043aa01e",
   "metadata": {},
   "outputs": [
    {
     "name": "stdout",
     "output_type": "stream",
     "text": [
      "[*] Importing model: model_HIVAE_inputDropout\n",
      "[*] Defining placeholders\n",
      "[*] Defining Encoder...\n",
      "[*] Defining Decoder...\n"
     ]
    },
    {
     "name": "stderr",
     "output_type": "stream",
     "text": [
      "/Users/karwath/.pyenv/versions/miniforge3/lib/python3.9/site-packages/hivae/VAE_functions.py:108: UserWarning: `tf.layers.dense` is deprecated and will be removed in a future version. Please use `tf.keras.layers.Dense` instead.\n",
      "  log_pi = tf.compat.v1.layers.dense(inputs=X, units=s_dim, activation=None,\n",
      "/Users/karwath/.pyenv/versions/miniforge3/lib/python3.9/site-packages/hivae/model_HIVAE_inputDropout.py:40: UserWarning: `tf.layers.dense` is deprecated and will be removed in a future version. Please use `tf.keras.layers.Dense` instead.\n",
      "  samples['y'] = tf.compat.v1.layers.dense(inputs=samples['z'], units=y_dim, activation=None,\n"
     ]
    },
    {
     "name": "stdout",
     "output_type": "stream",
     "text": [
      "[*] Defining Cost function...\n",
      "INFO :\t Testing the HVAE ...\n",
      "INFO:tensorflow:Restoring parameters from ./network/Diabetes/model_HIVAE_inputDropout_s10_z5_y5_batch32_dc745f86-39c1-446e-9fd1-c89155fdba83_ckpt\n"
     ]
    },
    {
     "name": "stderr",
     "output_type": "stream",
     "text": [
      "2022-08-25 14:55:00.969495: I tensorflow/core/common_runtime/pluggable_device/pluggable_device_factory.cc:305] Could not identify NUMA node of platform GPU ID 0, defaulting to 0. Your kernel may not have been built with NUMA support.\n",
      "2022-08-25 14:55:00.969769: I tensorflow/core/common_runtime/pluggable_device/pluggable_device_factory.cc:271] Created TensorFlow device (/job:localhost/replica:0/task:0/device:GPU:0 with 0 MB memory) -> physical PluggableDevice (device: 0, name: METAL, pci bus id: <undefined>)\n",
      "2022-08-25 14:55:01.210879: I tensorflow/core/grappler/optimizers/custom_graph_optimizer_registry.cc:113] Plugin optimizer for device_type GPU is enabled.\n",
      "2022-08-25 14:55:01.326896: I tensorflow/core/grappler/optimizers/custom_graph_optimizer_registry.cc:113] Plugin optimizer for device_type GPU is enabled.\n"
     ]
    },
    {
     "name": "stdout",
     "output_type": "stream",
     "text": [
      "INFO :\t Model restored.\n"
     ]
    },
    {
     "name": "stderr",
     "output_type": "stream",
     "text": [
      "2022-08-25 14:55:02.769448: I tensorflow/core/grappler/optimizers/custom_graph_optimizer_registry.cc:113] Plugin optimizer for device_type GPU is enabled.\n"
     ]
    },
    {
     "name": "stdout",
     "output_type": "stream",
     "text": [
      "INFO :\t Testing Finished ...\n",
      "INFO :\t Saving model_HIVAE_inputDropout_s10_z5_y5_batch32_dc745f86-39c1-446e-9fd1-c89155fdba83_data_reconstruction.csv in ./results/Diabetes/model_HIVAE_inputDropout_s10_z5_y5_batch32_dc745f86-39c1-446e-9fd1-c89155fdba83\n",
      "INFO :\t Saving model_HIVAE_inputDropout_s10_z5_y5_batch32_dc745f86-39c1-446e-9fd1-c89155fdba83_data_true.csv in ./results/Diabetes/model_HIVAE_inputDropout_s10_z5_y5_batch32_dc745f86-39c1-446e-9fd1-c89155fdba83\n",
      "INFO :\t Saving model_HIVAE_inputDropout_s10_z5_y5_batch32_dc745f86-39c1-446e-9fd1-c89155fdba83_data_loglik_mean_reconstructed.csv in ./results/Diabetes/model_HIVAE_inputDropout_s10_z5_y5_batch32_dc745f86-39c1-446e-9fd1-c89155fdba83\n"
     ]
    }
   ],
   "source": [
    "(test_data, test_data_reconstructed, test_data_decoded, test_data_embedded_z, test_data_embedded_s) = hivae_obj.predict(test_data,true_missing_mask=missing_true_test)\n"
   ]
  },
  {
   "cell_type": "code",
   "execution_count": 19,
   "id": "67595401",
   "metadata": {},
   "outputs": [],
   "source": [
    "df_test_data               = pd.DataFrame(test_data)\n",
    "df_test_data_reconstructed = pd.DataFrame(test_data_reconstructed)\n",
    "df_test_data_decoded       = pd.DataFrame(test_data_decoded)\n",
    "df_test_data_embedded_z    = pd.DataFrame(test_data_embedded_z)\n",
    "df_test_data_embedded_s    = pd.DataFrame(test_data_embedded_s)\n"
   ]
  },
  {
   "cell_type": "code",
   "execution_count": 20,
   "id": "1cb26c42",
   "metadata": {},
   "outputs": [
    {
     "data": {
      "text/html": [
       "<div>\n",
       "<style scoped>\n",
       "    .dataframe tbody tr th:only-of-type {\n",
       "        vertical-align: middle;\n",
       "    }\n",
       "\n",
       "    .dataframe tbody tr th {\n",
       "        vertical-align: top;\n",
       "    }\n",
       "\n",
       "    .dataframe thead th {\n",
       "        text-align: right;\n",
       "    }\n",
       "</style>\n",
       "<table border=\"1\" class=\"dataframe\">\n",
       "  <thead>\n",
       "    <tr style=\"text-align: right;\">\n",
       "      <th></th>\n",
       "      <th>0</th>\n",
       "      <th>1</th>\n",
       "      <th>2</th>\n",
       "      <th>3</th>\n",
       "      <th>4</th>\n",
       "      <th>5</th>\n",
       "      <th>6</th>\n",
       "      <th>7</th>\n",
       "      <th>8</th>\n",
       "      <th>9</th>\n",
       "    </tr>\n",
       "  </thead>\n",
       "  <tbody>\n",
       "    <tr>\n",
       "      <th>0</th>\n",
       "      <td>61.0</td>\n",
       "      <td>1.0</td>\n",
       "      <td>28.2</td>\n",
       "      <td>106.00</td>\n",
       "      <td>204.0</td>\n",
       "      <td>132.0</td>\n",
       "      <td>52.0</td>\n",
       "      <td>4.00</td>\n",
       "      <td>4.6052</td>\n",
       "      <td>96.0</td>\n",
       "    </tr>\n",
       "    <tr>\n",
       "      <th>1</th>\n",
       "      <td>61.0</td>\n",
       "      <td>1.0</td>\n",
       "      <td>23.1</td>\n",
       "      <td>113.00</td>\n",
       "      <td>186.0</td>\n",
       "      <td>114.4</td>\n",
       "      <td>47.0</td>\n",
       "      <td>4.00</td>\n",
       "      <td>4.8122</td>\n",
       "      <td>105.0</td>\n",
       "    </tr>\n",
       "    <tr>\n",
       "      <th>2</th>\n",
       "      <td>26.0</td>\n",
       "      <td>1.0</td>\n",
       "      <td>30.3</td>\n",
       "      <td>89.00</td>\n",
       "      <td>218.0</td>\n",
       "      <td>152.2</td>\n",
       "      <td>31.0</td>\n",
       "      <td>7.00</td>\n",
       "      <td>5.1591</td>\n",
       "      <td>82.0</td>\n",
       "    </tr>\n",
       "    <tr>\n",
       "      <th>3</th>\n",
       "      <td>34.0</td>\n",
       "      <td>1.0</td>\n",
       "      <td>30.0</td>\n",
       "      <td>83.00</td>\n",
       "      <td>185.0</td>\n",
       "      <td>107.2</td>\n",
       "      <td>53.0</td>\n",
       "      <td>3.00</td>\n",
       "      <td>4.8203</td>\n",
       "      <td>92.0</td>\n",
       "    </tr>\n",
       "    <tr>\n",
       "      <th>4</th>\n",
       "      <td>58.0</td>\n",
       "      <td>0.0</td>\n",
       "      <td>25.7</td>\n",
       "      <td>99.00</td>\n",
       "      <td>157.0</td>\n",
       "      <td>91.6</td>\n",
       "      <td>49.0</td>\n",
       "      <td>3.00</td>\n",
       "      <td>4.4067</td>\n",
       "      <td>93.0</td>\n",
       "    </tr>\n",
       "    <tr>\n",
       "      <th>...</th>\n",
       "      <td>...</td>\n",
       "      <td>...</td>\n",
       "      <td>...</td>\n",
       "      <td>...</td>\n",
       "      <td>...</td>\n",
       "      <td>...</td>\n",
       "      <td>...</td>\n",
       "      <td>...</td>\n",
       "      <td>...</td>\n",
       "      <td>...</td>\n",
       "    </tr>\n",
       "    <tr>\n",
       "      <th>128</th>\n",
       "      <td>50.0</td>\n",
       "      <td>1.0</td>\n",
       "      <td>29.6</td>\n",
       "      <td>94.33</td>\n",
       "      <td>300.0</td>\n",
       "      <td>242.4</td>\n",
       "      <td>33.0</td>\n",
       "      <td>9.09</td>\n",
       "      <td>4.8122</td>\n",
       "      <td>109.0</td>\n",
       "    </tr>\n",
       "    <tr>\n",
       "      <th>129</th>\n",
       "      <td>41.0</td>\n",
       "      <td>1.0</td>\n",
       "      <td>25.7</td>\n",
       "      <td>83.00</td>\n",
       "      <td>181.0</td>\n",
       "      <td>106.6</td>\n",
       "      <td>66.0</td>\n",
       "      <td>3.00</td>\n",
       "      <td>3.7377</td>\n",
       "      <td>85.0</td>\n",
       "    </tr>\n",
       "    <tr>\n",
       "      <th>130</th>\n",
       "      <td>66.0</td>\n",
       "      <td>1.0</td>\n",
       "      <td>26.0</td>\n",
       "      <td>91.00</td>\n",
       "      <td>264.0</td>\n",
       "      <td>146.6</td>\n",
       "      <td>65.0</td>\n",
       "      <td>4.00</td>\n",
       "      <td>5.5683</td>\n",
       "      <td>87.0</td>\n",
       "    </tr>\n",
       "    <tr>\n",
       "      <th>131</th>\n",
       "      <td>79.0</td>\n",
       "      <td>1.0</td>\n",
       "      <td>23.3</td>\n",
       "      <td>88.00</td>\n",
       "      <td>186.0</td>\n",
       "      <td>128.4</td>\n",
       "      <td>33.0</td>\n",
       "      <td>6.00</td>\n",
       "      <td>4.8122</td>\n",
       "      <td>102.0</td>\n",
       "    </tr>\n",
       "    <tr>\n",
       "      <th>132</th>\n",
       "      <td>67.0</td>\n",
       "      <td>0.0</td>\n",
       "      <td>31.6</td>\n",
       "      <td>116.00</td>\n",
       "      <td>179.0</td>\n",
       "      <td>90.4</td>\n",
       "      <td>41.0</td>\n",
       "      <td>4.00</td>\n",
       "      <td>5.4723</td>\n",
       "      <td>100.0</td>\n",
       "    </tr>\n",
       "  </tbody>\n",
       "</table>\n",
       "<p>133 rows × 10 columns</p>\n",
       "</div>"
      ],
      "text/plain": [
       "        0    1     2       3      4      5     6     7       8      9\n",
       "0    61.0  1.0  28.2  106.00  204.0  132.0  52.0  4.00  4.6052   96.0\n",
       "1    61.0  1.0  23.1  113.00  186.0  114.4  47.0  4.00  4.8122  105.0\n",
       "2    26.0  1.0  30.3   89.00  218.0  152.2  31.0  7.00  5.1591   82.0\n",
       "3    34.0  1.0  30.0   83.00  185.0  107.2  53.0  3.00  4.8203   92.0\n",
       "4    58.0  0.0  25.7   99.00  157.0   91.6  49.0  3.00  4.4067   93.0\n",
       "..    ...  ...   ...     ...    ...    ...   ...   ...     ...    ...\n",
       "128  50.0  1.0  29.6   94.33  300.0  242.4  33.0  9.09  4.8122  109.0\n",
       "129  41.0  1.0  25.7   83.00  181.0  106.6  66.0  3.00  3.7377   85.0\n",
       "130  66.0  1.0  26.0   91.00  264.0  146.6  65.0  4.00  5.5683   87.0\n",
       "131  79.0  1.0  23.3   88.00  186.0  128.4  33.0  6.00  4.8122  102.0\n",
       "132  67.0  0.0  31.6  116.00  179.0   90.4  41.0  4.00  5.4723  100.0\n",
       "\n",
       "[133 rows x 10 columns]"
      ]
     },
     "execution_count": 20,
     "metadata": {},
     "output_type": "execute_result"
    }
   ],
   "source": [
    "df_test_data"
   ]
  },
  {
   "cell_type": "code",
   "execution_count": 21,
   "id": "79caa28e",
   "metadata": {},
   "outputs": [
    {
     "data": {
      "text/html": [
       "<div>\n",
       "<style scoped>\n",
       "    .dataframe tbody tr th:only-of-type {\n",
       "        vertical-align: middle;\n",
       "    }\n",
       "\n",
       "    .dataframe tbody tr th {\n",
       "        vertical-align: top;\n",
       "    }\n",
       "\n",
       "    .dataframe thead th {\n",
       "        text-align: right;\n",
       "    }\n",
       "</style>\n",
       "<table border=\"1\" class=\"dataframe\">\n",
       "  <thead>\n",
       "    <tr style=\"text-align: right;\">\n",
       "      <th></th>\n",
       "      <th>0</th>\n",
       "      <th>1</th>\n",
       "      <th>2</th>\n",
       "      <th>3</th>\n",
       "      <th>4</th>\n",
       "      <th>5</th>\n",
       "      <th>6</th>\n",
       "      <th>7</th>\n",
       "      <th>8</th>\n",
       "      <th>9</th>\n",
       "    </tr>\n",
       "  </thead>\n",
       "  <tbody>\n",
       "    <tr>\n",
       "      <th>0</th>\n",
       "      <td>61.0</td>\n",
       "      <td>1.0</td>\n",
       "      <td>28.2</td>\n",
       "      <td>106.00</td>\n",
       "      <td>204.0</td>\n",
       "      <td>132.0</td>\n",
       "      <td>52.0</td>\n",
       "      <td>4.00</td>\n",
       "      <td>4.6052</td>\n",
       "      <td>96.0</td>\n",
       "    </tr>\n",
       "    <tr>\n",
       "      <th>1</th>\n",
       "      <td>61.0</td>\n",
       "      <td>1.0</td>\n",
       "      <td>23.1</td>\n",
       "      <td>113.00</td>\n",
       "      <td>186.0</td>\n",
       "      <td>114.4</td>\n",
       "      <td>47.0</td>\n",
       "      <td>4.00</td>\n",
       "      <td>4.8122</td>\n",
       "      <td>105.0</td>\n",
       "    </tr>\n",
       "    <tr>\n",
       "      <th>2</th>\n",
       "      <td>26.0</td>\n",
       "      <td>1.0</td>\n",
       "      <td>30.3</td>\n",
       "      <td>89.00</td>\n",
       "      <td>218.0</td>\n",
       "      <td>152.2</td>\n",
       "      <td>31.0</td>\n",
       "      <td>7.00</td>\n",
       "      <td>5.1591</td>\n",
       "      <td>82.0</td>\n",
       "    </tr>\n",
       "    <tr>\n",
       "      <th>3</th>\n",
       "      <td>34.0</td>\n",
       "      <td>1.0</td>\n",
       "      <td>30.0</td>\n",
       "      <td>83.00</td>\n",
       "      <td>185.0</td>\n",
       "      <td>107.2</td>\n",
       "      <td>53.0</td>\n",
       "      <td>3.00</td>\n",
       "      <td>4.8203</td>\n",
       "      <td>92.0</td>\n",
       "    </tr>\n",
       "    <tr>\n",
       "      <th>4</th>\n",
       "      <td>58.0</td>\n",
       "      <td>0.0</td>\n",
       "      <td>25.7</td>\n",
       "      <td>99.00</td>\n",
       "      <td>157.0</td>\n",
       "      <td>91.6</td>\n",
       "      <td>49.0</td>\n",
       "      <td>3.00</td>\n",
       "      <td>4.4067</td>\n",
       "      <td>93.0</td>\n",
       "    </tr>\n",
       "    <tr>\n",
       "      <th>...</th>\n",
       "      <td>...</td>\n",
       "      <td>...</td>\n",
       "      <td>...</td>\n",
       "      <td>...</td>\n",
       "      <td>...</td>\n",
       "      <td>...</td>\n",
       "      <td>...</td>\n",
       "      <td>...</td>\n",
       "      <td>...</td>\n",
       "      <td>...</td>\n",
       "    </tr>\n",
       "    <tr>\n",
       "      <th>128</th>\n",
       "      <td>50.0</td>\n",
       "      <td>1.0</td>\n",
       "      <td>29.6</td>\n",
       "      <td>94.33</td>\n",
       "      <td>300.0</td>\n",
       "      <td>242.4</td>\n",
       "      <td>33.0</td>\n",
       "      <td>9.09</td>\n",
       "      <td>4.8122</td>\n",
       "      <td>109.0</td>\n",
       "    </tr>\n",
       "    <tr>\n",
       "      <th>129</th>\n",
       "      <td>41.0</td>\n",
       "      <td>1.0</td>\n",
       "      <td>25.7</td>\n",
       "      <td>83.00</td>\n",
       "      <td>181.0</td>\n",
       "      <td>106.6</td>\n",
       "      <td>66.0</td>\n",
       "      <td>3.00</td>\n",
       "      <td>3.7377</td>\n",
       "      <td>85.0</td>\n",
       "    </tr>\n",
       "    <tr>\n",
       "      <th>130</th>\n",
       "      <td>66.0</td>\n",
       "      <td>1.0</td>\n",
       "      <td>26.0</td>\n",
       "      <td>91.00</td>\n",
       "      <td>264.0</td>\n",
       "      <td>146.6</td>\n",
       "      <td>65.0</td>\n",
       "      <td>4.00</td>\n",
       "      <td>5.5683</td>\n",
       "      <td>87.0</td>\n",
       "    </tr>\n",
       "    <tr>\n",
       "      <th>131</th>\n",
       "      <td>79.0</td>\n",
       "      <td>1.0</td>\n",
       "      <td>23.3</td>\n",
       "      <td>88.00</td>\n",
       "      <td>186.0</td>\n",
       "      <td>128.4</td>\n",
       "      <td>33.0</td>\n",
       "      <td>6.00</td>\n",
       "      <td>4.8122</td>\n",
       "      <td>102.0</td>\n",
       "    </tr>\n",
       "    <tr>\n",
       "      <th>132</th>\n",
       "      <td>67.0</td>\n",
       "      <td>0.0</td>\n",
       "      <td>31.6</td>\n",
       "      <td>116.00</td>\n",
       "      <td>179.0</td>\n",
       "      <td>90.4</td>\n",
       "      <td>41.0</td>\n",
       "      <td>4.00</td>\n",
       "      <td>5.4723</td>\n",
       "      <td>100.0</td>\n",
       "    </tr>\n",
       "  </tbody>\n",
       "</table>\n",
       "<p>133 rows × 10 columns</p>\n",
       "</div>"
      ],
      "text/plain": [
       "        0    1     2       3      4      5     6     7       8      9\n",
       "0    61.0  1.0  28.2  106.00  204.0  132.0  52.0  4.00  4.6052   96.0\n",
       "1    61.0  1.0  23.1  113.00  186.0  114.4  47.0  4.00  4.8122  105.0\n",
       "2    26.0  1.0  30.3   89.00  218.0  152.2  31.0  7.00  5.1591   82.0\n",
       "3    34.0  1.0  30.0   83.00  185.0  107.2  53.0  3.00  4.8203   92.0\n",
       "4    58.0  0.0  25.7   99.00  157.0   91.6  49.0  3.00  4.4067   93.0\n",
       "..    ...  ...   ...     ...    ...    ...   ...   ...     ...    ...\n",
       "128  50.0  1.0  29.6   94.33  300.0  242.4  33.0  9.09  4.8122  109.0\n",
       "129  41.0  1.0  25.7   83.00  181.0  106.6  66.0  3.00  3.7377   85.0\n",
       "130  66.0  1.0  26.0   91.00  264.0  146.6  65.0  4.00  5.5683   87.0\n",
       "131  79.0  1.0  23.3   88.00  186.0  128.4  33.0  6.00  4.8122  102.0\n",
       "132  67.0  0.0  31.6  116.00  179.0   90.4  41.0  4.00  5.4723  100.0\n",
       "\n",
       "[133 rows x 10 columns]"
      ]
     },
     "execution_count": 21,
     "metadata": {},
     "output_type": "execute_result"
    }
   ],
   "source": [
    "df_test_data_reconstructed"
   ]
  },
  {
   "cell_type": "code",
   "execution_count": null,
   "id": "1dd301e0",
   "metadata": {},
   "outputs": [],
   "source": []
  }
 ],
 "metadata": {
  "kernelspec": {
   "display_name": "miniforge-tf2 (M1)",
   "language": "python",
   "name": "miniforge-tf2"
  },
  "language_info": {
   "codemirror_mode": {
    "name": "ipython",
    "version": 3
   },
   "file_extension": ".py",
   "mimetype": "text/x-python",
   "name": "python",
   "nbconvert_exporter": "python",
   "pygments_lexer": "ipython3",
   "version": "3.9.13"
  }
 },
 "nbformat": 4,
 "nbformat_minor": 5
}
